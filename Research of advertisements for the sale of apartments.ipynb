{
 "cells": [
  {
   "cell_type": "code",
   "execution_count": 1,
   "id": "dd1bfbfe",
   "metadata": {},
   "outputs": [],
   "source": [
    "import pandas as pd\n",
    "import numpy as np\n",
    "import matplotlib.pyplot as plt\n",
    "import seaborn as sns"
   ]
  },
  {
   "cell_type": "code",
   "execution_count": 2,
   "id": "96a1228e",
   "metadata": {},
   "outputs": [],
   "source": [
    "#import data\n",
    "data_main = pd.read_csv('Downloads/real_estate_data.csv', sep = '\\t')\n"
   ]
  },
  {
   "cell_type": "code",
   "execution_count": 3,
   "id": "776ec05e",
   "metadata": {},
   "outputs": [],
   "source": [
    "data = data_main.copy()"
   ]
  },
  {
   "cell_type": "code",
   "execution_count": 4,
   "id": "9b944c12",
   "metadata": {},
   "outputs": [
    {
     "data": {
      "text/html": [
       "<div>\n",
       "<style scoped>\n",
       "    .dataframe tbody tr th:only-of-type {\n",
       "        vertical-align: middle;\n",
       "    }\n",
       "\n",
       "    .dataframe tbody tr th {\n",
       "        vertical-align: top;\n",
       "    }\n",
       "\n",
       "    .dataframe thead th {\n",
       "        text-align: right;\n",
       "    }\n",
       "</style>\n",
       "<table border=\"1\" class=\"dataframe\">\n",
       "  <thead>\n",
       "    <tr style=\"text-align: right;\">\n",
       "      <th></th>\n",
       "      <th>total_images</th>\n",
       "      <th>last_price</th>\n",
       "      <th>total_area</th>\n",
       "      <th>first_day_exposition</th>\n",
       "      <th>rooms</th>\n",
       "      <th>ceiling_height</th>\n",
       "      <th>floors_total</th>\n",
       "      <th>living_area</th>\n",
       "      <th>floor</th>\n",
       "      <th>is_apartment</th>\n",
       "      <th>...</th>\n",
       "      <th>kitchen_area</th>\n",
       "      <th>balcony</th>\n",
       "      <th>locality_name</th>\n",
       "      <th>airports_nearest</th>\n",
       "      <th>cityCenters_nearest</th>\n",
       "      <th>parks_around3000</th>\n",
       "      <th>parks_nearest</th>\n",
       "      <th>ponds_around3000</th>\n",
       "      <th>ponds_nearest</th>\n",
       "      <th>days_exposition</th>\n",
       "    </tr>\n",
       "  </thead>\n",
       "  <tbody>\n",
       "    <tr>\n",
       "      <th>0</th>\n",
       "      <td>20</td>\n",
       "      <td>13000000.0</td>\n",
       "      <td>108.0</td>\n",
       "      <td>2019-03-07T00:00:00</td>\n",
       "      <td>3</td>\n",
       "      <td>2.70</td>\n",
       "      <td>16.0</td>\n",
       "      <td>51.0</td>\n",
       "      <td>8</td>\n",
       "      <td>NaN</td>\n",
       "      <td>...</td>\n",
       "      <td>25.0</td>\n",
       "      <td>NaN</td>\n",
       "      <td>Санкт-Петербург</td>\n",
       "      <td>18863.0</td>\n",
       "      <td>16028.0</td>\n",
       "      <td>1.0</td>\n",
       "      <td>482.0</td>\n",
       "      <td>2.0</td>\n",
       "      <td>755.0</td>\n",
       "      <td>NaN</td>\n",
       "    </tr>\n",
       "    <tr>\n",
       "      <th>1</th>\n",
       "      <td>7</td>\n",
       "      <td>3350000.0</td>\n",
       "      <td>40.4</td>\n",
       "      <td>2018-12-04T00:00:00</td>\n",
       "      <td>1</td>\n",
       "      <td>NaN</td>\n",
       "      <td>11.0</td>\n",
       "      <td>18.6</td>\n",
       "      <td>1</td>\n",
       "      <td>NaN</td>\n",
       "      <td>...</td>\n",
       "      <td>11.0</td>\n",
       "      <td>2.0</td>\n",
       "      <td>посёлок Шушары</td>\n",
       "      <td>12817.0</td>\n",
       "      <td>18603.0</td>\n",
       "      <td>0.0</td>\n",
       "      <td>NaN</td>\n",
       "      <td>0.0</td>\n",
       "      <td>NaN</td>\n",
       "      <td>81.0</td>\n",
       "    </tr>\n",
       "    <tr>\n",
       "      <th>2</th>\n",
       "      <td>10</td>\n",
       "      <td>5196000.0</td>\n",
       "      <td>56.0</td>\n",
       "      <td>2015-08-20T00:00:00</td>\n",
       "      <td>2</td>\n",
       "      <td>NaN</td>\n",
       "      <td>5.0</td>\n",
       "      <td>34.3</td>\n",
       "      <td>4</td>\n",
       "      <td>NaN</td>\n",
       "      <td>...</td>\n",
       "      <td>8.3</td>\n",
       "      <td>0.0</td>\n",
       "      <td>Санкт-Петербург</td>\n",
       "      <td>21741.0</td>\n",
       "      <td>13933.0</td>\n",
       "      <td>1.0</td>\n",
       "      <td>90.0</td>\n",
       "      <td>2.0</td>\n",
       "      <td>574.0</td>\n",
       "      <td>558.0</td>\n",
       "    </tr>\n",
       "    <tr>\n",
       "      <th>3</th>\n",
       "      <td>0</td>\n",
       "      <td>64900000.0</td>\n",
       "      <td>159.0</td>\n",
       "      <td>2015-07-24T00:00:00</td>\n",
       "      <td>3</td>\n",
       "      <td>NaN</td>\n",
       "      <td>14.0</td>\n",
       "      <td>NaN</td>\n",
       "      <td>9</td>\n",
       "      <td>NaN</td>\n",
       "      <td>...</td>\n",
       "      <td>NaN</td>\n",
       "      <td>0.0</td>\n",
       "      <td>Санкт-Петербург</td>\n",
       "      <td>28098.0</td>\n",
       "      <td>6800.0</td>\n",
       "      <td>2.0</td>\n",
       "      <td>84.0</td>\n",
       "      <td>3.0</td>\n",
       "      <td>234.0</td>\n",
       "      <td>424.0</td>\n",
       "    </tr>\n",
       "    <tr>\n",
       "      <th>4</th>\n",
       "      <td>2</td>\n",
       "      <td>10000000.0</td>\n",
       "      <td>100.0</td>\n",
       "      <td>2018-06-19T00:00:00</td>\n",
       "      <td>2</td>\n",
       "      <td>3.03</td>\n",
       "      <td>14.0</td>\n",
       "      <td>32.0</td>\n",
       "      <td>13</td>\n",
       "      <td>NaN</td>\n",
       "      <td>...</td>\n",
       "      <td>41.0</td>\n",
       "      <td>NaN</td>\n",
       "      <td>Санкт-Петербург</td>\n",
       "      <td>31856.0</td>\n",
       "      <td>8098.0</td>\n",
       "      <td>2.0</td>\n",
       "      <td>112.0</td>\n",
       "      <td>1.0</td>\n",
       "      <td>48.0</td>\n",
       "      <td>121.0</td>\n",
       "    </tr>\n",
       "  </tbody>\n",
       "</table>\n",
       "<p>5 rows × 22 columns</p>\n",
       "</div>"
      ],
      "text/plain": [
       "   total_images  last_price  total_area first_day_exposition  rooms  \\\n",
       "0            20  13000000.0       108.0  2019-03-07T00:00:00      3   \n",
       "1             7   3350000.0        40.4  2018-12-04T00:00:00      1   \n",
       "2            10   5196000.0        56.0  2015-08-20T00:00:00      2   \n",
       "3             0  64900000.0       159.0  2015-07-24T00:00:00      3   \n",
       "4             2  10000000.0       100.0  2018-06-19T00:00:00      2   \n",
       "\n",
       "   ceiling_height  floors_total  living_area  floor is_apartment  ...  \\\n",
       "0            2.70          16.0         51.0      8          NaN  ...   \n",
       "1             NaN          11.0         18.6      1          NaN  ...   \n",
       "2             NaN           5.0         34.3      4          NaN  ...   \n",
       "3             NaN          14.0          NaN      9          NaN  ...   \n",
       "4            3.03          14.0         32.0     13          NaN  ...   \n",
       "\n",
       "   kitchen_area  balcony    locality_name  airports_nearest  \\\n",
       "0          25.0      NaN  Санкт-Петербург           18863.0   \n",
       "1          11.0      2.0   посёлок Шушары           12817.0   \n",
       "2           8.3      0.0  Санкт-Петербург           21741.0   \n",
       "3           NaN      0.0  Санкт-Петербург           28098.0   \n",
       "4          41.0      NaN  Санкт-Петербург           31856.0   \n",
       "\n",
       "  cityCenters_nearest  parks_around3000  parks_nearest  ponds_around3000  \\\n",
       "0             16028.0               1.0          482.0               2.0   \n",
       "1             18603.0               0.0            NaN               0.0   \n",
       "2             13933.0               1.0           90.0               2.0   \n",
       "3              6800.0               2.0           84.0               3.0   \n",
       "4              8098.0               2.0          112.0               1.0   \n",
       "\n",
       "   ponds_nearest  days_exposition  \n",
       "0          755.0              NaN  \n",
       "1            NaN             81.0  \n",
       "2          574.0            558.0  \n",
       "3          234.0            424.0  \n",
       "4           48.0            121.0  \n",
       "\n",
       "[5 rows x 22 columns]"
      ]
     },
     "execution_count": 4,
     "metadata": {},
     "output_type": "execute_result"
    }
   ],
   "source": [
    "#take a look on 5 first rows\n",
    "data.head()"
   ]
  },
  {
   "cell_type": "code",
   "execution_count": 5,
   "id": "afb34301",
   "metadata": {},
   "outputs": [
    {
     "name": "stdout",
     "output_type": "stream",
     "text": [
      "<class 'pandas.core.frame.DataFrame'>\n",
      "RangeIndex: 23699 entries, 0 to 23698\n",
      "Data columns (total 22 columns):\n",
      " #   Column                Non-Null Count  Dtype  \n",
      "---  ------                --------------  -----  \n",
      " 0   total_images          23699 non-null  int64  \n",
      " 1   last_price            23699 non-null  float64\n",
      " 2   total_area            23699 non-null  float64\n",
      " 3   first_day_exposition  23699 non-null  object \n",
      " 4   rooms                 23699 non-null  int64  \n",
      " 5   ceiling_height        14504 non-null  float64\n",
      " 6   floors_total          23613 non-null  float64\n",
      " 7   living_area           21796 non-null  float64\n",
      " 8   floor                 23699 non-null  int64  \n",
      " 9   is_apartment          2775 non-null   object \n",
      " 10  studio                23699 non-null  bool   \n",
      " 11  open_plan             23699 non-null  bool   \n",
      " 12  kitchen_area          21421 non-null  float64\n",
      " 13  balcony               12180 non-null  float64\n",
      " 14  locality_name         23650 non-null  object \n",
      " 15  airports_nearest      18157 non-null  float64\n",
      " 16  cityCenters_nearest   18180 non-null  float64\n",
      " 17  parks_around3000      18181 non-null  float64\n",
      " 18  parks_nearest         8079 non-null   float64\n",
      " 19  ponds_around3000      18181 non-null  float64\n",
      " 20  ponds_nearest         9110 non-null   float64\n",
      " 21  days_exposition       20518 non-null  float64\n",
      "dtypes: bool(2), float64(14), int64(3), object(3)\n",
      "memory usage: 3.7+ MB\n"
     ]
    }
   ],
   "source": [
    "data.info()"
   ]
  },
  {
   "cell_type": "code",
   "execution_count": 6,
   "id": "97f83d17",
   "metadata": {},
   "outputs": [
    {
     "data": {
      "text/plain": [
       "(23699, 22)"
      ]
     },
     "execution_count": 6,
     "metadata": {},
     "output_type": "execute_result"
    }
   ],
   "source": [
    "data.shape"
   ]
  },
  {
   "cell_type": "code",
   "execution_count": 7,
   "id": "20c164a7",
   "metadata": {},
   "outputs": [
    {
     "data": {
      "text/plain": [
       "total_images                0\n",
       "last_price                  0\n",
       "total_area                  0\n",
       "first_day_exposition        0\n",
       "rooms                       0\n",
       "ceiling_height           9195\n",
       "floors_total               86\n",
       "living_area              1903\n",
       "floor                       0\n",
       "is_apartment            20924\n",
       "studio                      0\n",
       "open_plan                   0\n",
       "kitchen_area             2278\n",
       "balcony                 11519\n",
       "locality_name              49\n",
       "airports_nearest         5542\n",
       "cityCenters_nearest      5519\n",
       "parks_around3000         5518\n",
       "parks_nearest           15620\n",
       "ponds_around3000         5518\n",
       "ponds_nearest           14589\n",
       "days_exposition          3181\n",
       "dtype: int64"
      ]
     },
     "execution_count": 7,
     "metadata": {},
     "output_type": "execute_result"
    }
   ],
   "source": [
    "#columns with Nan\n",
    "data.isnull().sum()"
   ]
  },
  {
   "cell_type": "markdown",
   "id": "566f3a54",
   "metadata": {},
   "source": [
    "Prepair our data for analys:\n",
    "- Types of data\n",
    "- Nans"
   ]
  },
  {
   "cell_type": "code",
   "execution_count": 8,
   "id": "535ee17b",
   "metadata": {},
   "outputs": [
    {
     "data": {
      "text/html": [
       "<div>\n",
       "<style scoped>\n",
       "    .dataframe tbody tr th:only-of-type {\n",
       "        vertical-align: middle;\n",
       "    }\n",
       "\n",
       "    .dataframe tbody tr th {\n",
       "        vertical-align: top;\n",
       "    }\n",
       "\n",
       "    .dataframe thead th {\n",
       "        text-align: right;\n",
       "    }\n",
       "</style>\n",
       "<table border=\"1\" class=\"dataframe\">\n",
       "  <thead>\n",
       "    <tr style=\"text-align: right;\">\n",
       "      <th></th>\n",
       "      <th>total_images</th>\n",
       "      <th>last_price</th>\n",
       "      <th>total_area</th>\n",
       "      <th>rooms</th>\n",
       "      <th>ceiling_height</th>\n",
       "      <th>floors_total</th>\n",
       "      <th>living_area</th>\n",
       "      <th>floor</th>\n",
       "      <th>kitchen_area</th>\n",
       "      <th>balcony</th>\n",
       "      <th>airports_nearest</th>\n",
       "      <th>cityCenters_nearest</th>\n",
       "      <th>parks_around3000</th>\n",
       "      <th>parks_nearest</th>\n",
       "      <th>ponds_around3000</th>\n",
       "      <th>ponds_nearest</th>\n",
       "      <th>days_exposition</th>\n",
       "    </tr>\n",
       "  </thead>\n",
       "  <tbody>\n",
       "    <tr>\n",
       "      <th>count</th>\n",
       "      <td>23699.000000</td>\n",
       "      <td>2.369900e+04</td>\n",
       "      <td>23699.000000</td>\n",
       "      <td>23699.000000</td>\n",
       "      <td>14504.000000</td>\n",
       "      <td>23613.000000</td>\n",
       "      <td>21796.000000</td>\n",
       "      <td>23699.000000</td>\n",
       "      <td>21421.000000</td>\n",
       "      <td>12180.000000</td>\n",
       "      <td>18157.000000</td>\n",
       "      <td>18180.000000</td>\n",
       "      <td>18181.000000</td>\n",
       "      <td>8079.000000</td>\n",
       "      <td>18181.000000</td>\n",
       "      <td>9110.000000</td>\n",
       "      <td>20518.000000</td>\n",
       "    </tr>\n",
       "    <tr>\n",
       "      <th>mean</th>\n",
       "      <td>9.858475</td>\n",
       "      <td>6.541549e+06</td>\n",
       "      <td>60.348651</td>\n",
       "      <td>2.070636</td>\n",
       "      <td>2.771499</td>\n",
       "      <td>10.673824</td>\n",
       "      <td>34.457852</td>\n",
       "      <td>5.892358</td>\n",
       "      <td>10.569807</td>\n",
       "      <td>1.150082</td>\n",
       "      <td>28793.672193</td>\n",
       "      <td>14191.277833</td>\n",
       "      <td>0.611408</td>\n",
       "      <td>490.804555</td>\n",
       "      <td>0.770255</td>\n",
       "      <td>517.980900</td>\n",
       "      <td>180.888634</td>\n",
       "    </tr>\n",
       "    <tr>\n",
       "      <th>std</th>\n",
       "      <td>5.682529</td>\n",
       "      <td>1.088701e+07</td>\n",
       "      <td>35.654083</td>\n",
       "      <td>1.078405</td>\n",
       "      <td>1.261056</td>\n",
       "      <td>6.597173</td>\n",
       "      <td>22.030445</td>\n",
       "      <td>4.885249</td>\n",
       "      <td>5.905438</td>\n",
       "      <td>1.071300</td>\n",
       "      <td>12630.880622</td>\n",
       "      <td>8608.386210</td>\n",
       "      <td>0.802074</td>\n",
       "      <td>342.317995</td>\n",
       "      <td>0.938346</td>\n",
       "      <td>277.720643</td>\n",
       "      <td>219.727988</td>\n",
       "    </tr>\n",
       "    <tr>\n",
       "      <th>min</th>\n",
       "      <td>0.000000</td>\n",
       "      <td>1.219000e+04</td>\n",
       "      <td>12.000000</td>\n",
       "      <td>0.000000</td>\n",
       "      <td>1.000000</td>\n",
       "      <td>1.000000</td>\n",
       "      <td>2.000000</td>\n",
       "      <td>1.000000</td>\n",
       "      <td>1.300000</td>\n",
       "      <td>0.000000</td>\n",
       "      <td>0.000000</td>\n",
       "      <td>181.000000</td>\n",
       "      <td>0.000000</td>\n",
       "      <td>1.000000</td>\n",
       "      <td>0.000000</td>\n",
       "      <td>13.000000</td>\n",
       "      <td>1.000000</td>\n",
       "    </tr>\n",
       "    <tr>\n",
       "      <th>25%</th>\n",
       "      <td>6.000000</td>\n",
       "      <td>3.400000e+06</td>\n",
       "      <td>40.000000</td>\n",
       "      <td>1.000000</td>\n",
       "      <td>2.520000</td>\n",
       "      <td>5.000000</td>\n",
       "      <td>18.600000</td>\n",
       "      <td>2.000000</td>\n",
       "      <td>7.000000</td>\n",
       "      <td>0.000000</td>\n",
       "      <td>18585.000000</td>\n",
       "      <td>9238.000000</td>\n",
       "      <td>0.000000</td>\n",
       "      <td>288.000000</td>\n",
       "      <td>0.000000</td>\n",
       "      <td>294.000000</td>\n",
       "      <td>45.000000</td>\n",
       "    </tr>\n",
       "    <tr>\n",
       "      <th>50%</th>\n",
       "      <td>9.000000</td>\n",
       "      <td>4.650000e+06</td>\n",
       "      <td>52.000000</td>\n",
       "      <td>2.000000</td>\n",
       "      <td>2.650000</td>\n",
       "      <td>9.000000</td>\n",
       "      <td>30.000000</td>\n",
       "      <td>4.000000</td>\n",
       "      <td>9.100000</td>\n",
       "      <td>1.000000</td>\n",
       "      <td>26726.000000</td>\n",
       "      <td>13098.500000</td>\n",
       "      <td>0.000000</td>\n",
       "      <td>455.000000</td>\n",
       "      <td>1.000000</td>\n",
       "      <td>502.000000</td>\n",
       "      <td>95.000000</td>\n",
       "    </tr>\n",
       "    <tr>\n",
       "      <th>75%</th>\n",
       "      <td>14.000000</td>\n",
       "      <td>6.800000e+06</td>\n",
       "      <td>69.900000</td>\n",
       "      <td>3.000000</td>\n",
       "      <td>2.800000</td>\n",
       "      <td>16.000000</td>\n",
       "      <td>42.300000</td>\n",
       "      <td>8.000000</td>\n",
       "      <td>12.000000</td>\n",
       "      <td>2.000000</td>\n",
       "      <td>37273.000000</td>\n",
       "      <td>16293.000000</td>\n",
       "      <td>1.000000</td>\n",
       "      <td>612.000000</td>\n",
       "      <td>1.000000</td>\n",
       "      <td>729.000000</td>\n",
       "      <td>232.000000</td>\n",
       "    </tr>\n",
       "    <tr>\n",
       "      <th>max</th>\n",
       "      <td>50.000000</td>\n",
       "      <td>7.630000e+08</td>\n",
       "      <td>900.000000</td>\n",
       "      <td>19.000000</td>\n",
       "      <td>100.000000</td>\n",
       "      <td>60.000000</td>\n",
       "      <td>409.700000</td>\n",
       "      <td>33.000000</td>\n",
       "      <td>112.000000</td>\n",
       "      <td>5.000000</td>\n",
       "      <td>84869.000000</td>\n",
       "      <td>65968.000000</td>\n",
       "      <td>3.000000</td>\n",
       "      <td>3190.000000</td>\n",
       "      <td>3.000000</td>\n",
       "      <td>1344.000000</td>\n",
       "      <td>1580.000000</td>\n",
       "    </tr>\n",
       "  </tbody>\n",
       "</table>\n",
       "</div>"
      ],
      "text/plain": [
       "       total_images    last_price    total_area         rooms  ceiling_height  \\\n",
       "count  23699.000000  2.369900e+04  23699.000000  23699.000000    14504.000000   \n",
       "mean       9.858475  6.541549e+06     60.348651      2.070636        2.771499   \n",
       "std        5.682529  1.088701e+07     35.654083      1.078405        1.261056   \n",
       "min        0.000000  1.219000e+04     12.000000      0.000000        1.000000   \n",
       "25%        6.000000  3.400000e+06     40.000000      1.000000        2.520000   \n",
       "50%        9.000000  4.650000e+06     52.000000      2.000000        2.650000   \n",
       "75%       14.000000  6.800000e+06     69.900000      3.000000        2.800000   \n",
       "max       50.000000  7.630000e+08    900.000000     19.000000      100.000000   \n",
       "\n",
       "       floors_total   living_area         floor  kitchen_area       balcony  \\\n",
       "count  23613.000000  21796.000000  23699.000000  21421.000000  12180.000000   \n",
       "mean      10.673824     34.457852      5.892358     10.569807      1.150082   \n",
       "std        6.597173     22.030445      4.885249      5.905438      1.071300   \n",
       "min        1.000000      2.000000      1.000000      1.300000      0.000000   \n",
       "25%        5.000000     18.600000      2.000000      7.000000      0.000000   \n",
       "50%        9.000000     30.000000      4.000000      9.100000      1.000000   \n",
       "75%       16.000000     42.300000      8.000000     12.000000      2.000000   \n",
       "max       60.000000    409.700000     33.000000    112.000000      5.000000   \n",
       "\n",
       "       airports_nearest  cityCenters_nearest  parks_around3000  parks_nearest  \\\n",
       "count      18157.000000         18180.000000      18181.000000    8079.000000   \n",
       "mean       28793.672193         14191.277833          0.611408     490.804555   \n",
       "std        12630.880622          8608.386210          0.802074     342.317995   \n",
       "min            0.000000           181.000000          0.000000       1.000000   \n",
       "25%        18585.000000          9238.000000          0.000000     288.000000   \n",
       "50%        26726.000000         13098.500000          0.000000     455.000000   \n",
       "75%        37273.000000         16293.000000          1.000000     612.000000   \n",
       "max        84869.000000         65968.000000          3.000000    3190.000000   \n",
       "\n",
       "       ponds_around3000  ponds_nearest  days_exposition  \n",
       "count      18181.000000    9110.000000     20518.000000  \n",
       "mean           0.770255     517.980900       180.888634  \n",
       "std            0.938346     277.720643       219.727988  \n",
       "min            0.000000      13.000000         1.000000  \n",
       "25%            0.000000     294.000000        45.000000  \n",
       "50%            1.000000     502.000000        95.000000  \n",
       "75%            1.000000     729.000000       232.000000  \n",
       "max            3.000000    1344.000000      1580.000000  "
      ]
     },
     "execution_count": 8,
     "metadata": {},
     "output_type": "execute_result"
    }
   ],
   "source": [
    "data.describe()"
   ]
  },
  {
   "cell_type": "code",
   "execution_count": 9,
   "id": "8900fdb2",
   "metadata": {},
   "outputs": [
    {
     "data": {
      "text/plain": [
       "count    23699.000000\n",
       "mean         2.730513\n",
       "std          1.027926\n",
       "min          1.000000\n",
       "25%          2.550000\n",
       "50%          2.625000\n",
       "75%          2.750000\n",
       "max        100.000000\n",
       "Name: ceiling_height, dtype: float64"
      ]
     },
     "metadata": {},
     "output_type": "display_data"
    }
   ],
   "source": [
    "#ceiling_height\n",
    "\n",
    "ceil = data.loc[:,['ceiling_height', 'total_area']] # data with ceil high and total area \n",
    "ceil.groupby(['total_area']).median() # median of the height of the ceilings depending on the total area\n",
    "\n",
    "data['ceiling_height'] = ceil.groupby('total_area')['ceiling_height']\\\n",
    "                            .apply(lambda x: x.fillna(x.median())) #replace with median\n",
    "data['ceiling_height'] = data['ceiling_height'].fillna(data['ceiling_height'].mean()) # replace with mean\n",
    "display(data['ceiling_height'].describe())"
   ]
  },
  {
   "cell_type": "markdown",
   "id": "cff7f4d7",
   "metadata": {},
   "source": [
    "Ok we see that there are some of strange values in data: min = 1 and max = 100, let's check this in boxplot"
   ]
  },
  {
   "cell_type": "code",
   "execution_count": 10,
   "id": "da34da7a",
   "metadata": {},
   "outputs": [
    {
     "data": {
      "image/png": "[encoded data removed]",
      "text/plain": [
       "<Figure size 1080x576 with 1 Axes>"
      ]
     },
     "metadata": {
      "needs_background": "light"
     },
     "output_type": "display_data"
    }
   ],
   "source": [
    "#\n",
    "plt.figure(figsize=(15,8))\n",
    "sns.set_style('whitegrid')\n",
    "sns.boxplot(data=data, x='ceiling_height')\n",
    "plt.title('Ceiling Height')\n",
    "plt.xlabel('m')\n",
    "\n",
    "pass"
   ]
  },
  {
   "cell_type": "markdown",
   "id": "3a54ddcd",
   "metadata": {},
   "source": [
    "Oh this is not that we want to see).\n",
    "Ok this data is from Saint Petersburg and based on data from Internet resources we can assume that the height of the ceilings should be from 2.2 to 4 meters"
   ]
  },
  {
   "cell_type": "code",
   "execution_count": 11,
   "id": "effff0e7",
   "metadata": {},
   "outputs": [
    {
     "data": {
      "text/plain": [
       "(2.0, 4.0)"
      ]
     },
     "execution_count": 11,
     "metadata": {},
     "output_type": "execute_result"
    },
    {
     "data": {
      "image/png": "[encoded data removed]",
      "text/plain": [
       "<Figure size 1080x576 with 1 Axes>"
      ]
     },
     "metadata": {},
     "output_type": "display_data"
    }
   ],
   "source": [
    "plt.figure(figsize=(15,8))\n",
    "sns.set_style('whitegrid')\n",
    "sns.boxplot(data=data, x='ceiling_height')\n",
    "plt.title('Ceiling Height')\n",
    "plt.xlabel('m')\n",
    "plt.xlim(2,4)"
   ]
  },
  {
   "cell_type": "markdown",
   "id": "eae1cf43",
   "metadata": {},
   "source": [
    "Ok it's better but we see that 99% of values are in the range 2.25-3.05"
   ]
  },
  {
   "cell_type": "code",
   "execution_count": 12,
   "id": "753ab0e9",
   "metadata": {},
   "outputs": [
    {
     "data": {
      "text/plain": [
       "count    23613.000000\n",
       "mean        10.673824\n",
       "std          6.597173\n",
       "min          1.000000\n",
       "25%          5.000000\n",
       "50%          9.000000\n",
       "75%         16.000000\n",
       "max         60.000000\n",
       "Name: floors_total, dtype: float64"
      ]
     },
     "metadata": {},
     "output_type": "display_data"
    }
   ],
   "source": [
    "# floors_total \n",
    "display(data['floors_total'].describe())\n",
    "#display(data['floors_total'].value_counts())\n",
    "data['floors_total'] = data['floors_total'].fillna('0') # replace NaN with 0\n",
    "data['floors_total'] = data['floors_total'].astype('int') # change type\n"
   ]
  },
  {
   "cell_type": "code",
   "execution_count": 13,
   "id": "da34bb68",
   "metadata": {},
   "outputs": [
    {
     "data": {
      "text/plain": [
       "0"
      ]
     },
     "execution_count": 13,
     "metadata": {},
     "output_type": "execute_result"
    }
   ],
   "source": [
    "data['floors_total'].isna().sum()"
   ]
  },
  {
   "cell_type": "code",
   "execution_count": 14,
   "id": "71538901",
   "metadata": {},
   "outputs": [
    {
     "data": {
      "text/html": [
       "<div>\n",
       "<style scoped>\n",
       "    .dataframe tbody tr th:only-of-type {\n",
       "        vertical-align: middle;\n",
       "    }\n",
       "\n",
       "    .dataframe tbody tr th {\n",
       "        vertical-align: top;\n",
       "    }\n",
       "\n",
       "    .dataframe thead th {\n",
       "        text-align: right;\n",
       "    }\n",
       "</style>\n",
       "<table border=\"1\" class=\"dataframe\">\n",
       "  <thead>\n",
       "    <tr style=\"text-align: right;\">\n",
       "      <th></th>\n",
       "      <th>living_area</th>\n",
       "      <th>rooms</th>\n",
       "    </tr>\n",
       "  </thead>\n",
       "  <tbody>\n",
       "    <tr>\n",
       "      <th>living_area</th>\n",
       "      <td>1.000000</td>\n",
       "      <td>0.845977</td>\n",
       "    </tr>\n",
       "    <tr>\n",
       "      <th>rooms</th>\n",
       "      <td>0.845977</td>\n",
       "      <td>1.000000</td>\n",
       "    </tr>\n",
       "  </tbody>\n",
       "</table>\n",
       "</div>"
      ],
      "text/plain": [
       "             living_area     rooms\n",
       "living_area     1.000000  0.845977\n",
       "rooms           0.845977  1.000000"
      ]
     },
     "metadata": {},
     "output_type": "display_data"
    },
    {
     "data": {
      "text/plain": [
       "count    23699.000000\n",
       "mean        34.321982\n",
       "std         21.700627\n",
       "min          2.000000\n",
       "25%         18.400000\n",
       "50%         30.300000\n",
       "75%         42.700000\n",
       "max        409.700000\n",
       "Name: living_area, dtype: float64"
      ]
     },
     "metadata": {},
     "output_type": "display_data"
    },
    {
     "data": {
      "text/plain": [
       "0"
      ]
     },
     "execution_count": 14,
     "metadata": {},
     "output_type": "execute_result"
    }
   ],
   "source": [
    "#living_area\n",
    "living_area = data.loc[:,['living_area', 'rooms']]\n",
    "display(living_area.corr()) # correlation between living_area and number of rooms\n",
    "\n",
    "living_area.groupby(['rooms']).median() # median in the ratio of living space from the number of rooms\n",
    "data['living_area'] = living_area.groupby('rooms')['living_area']\\\n",
    "                                .apply(lambda x: x.fillna(x.median())) # replace Nan witn median\n",
    "display(data['living_area'].describe())\n",
    "data['living_area'].isna().sum()\n"
   ]
  },
  {
   "cell_type": "code",
   "execution_count": 15,
   "id": "2be91504",
   "metadata": {},
   "outputs": [
    {
     "data": {
      "image/png": "[encoded data removed]",
      "text/plain": [
       "<Figure size 1080x576 with 1 Axes>"
      ]
     },
     "metadata": {},
     "output_type": "display_data"
    }
   ],
   "source": [
    "plt.figure(figsize=(15,8))\n",
    "sns.set_style('whitegrid')\n",
    "sns.boxplot(data=data, x='living_area')\n",
    "plt.title('Living Area')\n",
    "plt.xlabel('m2')\n",
    "\n",
    "pass"
   ]
  },
  {
   "cell_type": "markdown",
   "id": "32b4d561",
   "metadata": {},
   "source": [
    "In our analysis, too small and too large areas should not be taken into account. We should take values in range more than 2 and less than 75"
   ]
  },
  {
   "cell_type": "code",
   "execution_count": 16,
   "id": "1ef1c5fb",
   "metadata": {},
   "outputs": [
    {
     "data": {
      "text/plain": [
       "count    21421.000000\n",
       "mean        10.569807\n",
       "std          5.905438\n",
       "min          1.300000\n",
       "25%          7.000000\n",
       "50%          9.100000\n",
       "75%         12.000000\n",
       "max        112.000000\n",
       "Name: kitchen_area, dtype: float64"
      ]
     },
     "metadata": {},
     "output_type": "display_data"
    },
    {
     "data": {
      "text/html": [
       "<div>\n",
       "<style scoped>\n",
       "    .dataframe tbody tr th:only-of-type {\n",
       "        vertical-align: middle;\n",
       "    }\n",
       "\n",
       "    .dataframe tbody tr th {\n",
       "        vertical-align: top;\n",
       "    }\n",
       "\n",
       "    .dataframe thead th {\n",
       "        text-align: right;\n",
       "    }\n",
       "</style>\n",
       "<table border=\"1\" class=\"dataframe\">\n",
       "  <thead>\n",
       "    <tr style=\"text-align: right;\">\n",
       "      <th></th>\n",
       "      <th>kitchen_area</th>\n",
       "      <th>total_area</th>\n",
       "    </tr>\n",
       "  </thead>\n",
       "  <tbody>\n",
       "    <tr>\n",
       "      <th>kitchen_area</th>\n",
       "      <td>1.000000</td>\n",
       "      <td>0.609121</td>\n",
       "    </tr>\n",
       "    <tr>\n",
       "      <th>total_area</th>\n",
       "      <td>0.609121</td>\n",
       "      <td>1.000000</td>\n",
       "    </tr>\n",
       "  </tbody>\n",
       "</table>\n",
       "</div>"
      ],
      "text/plain": [
       "              kitchen_area  total_area\n",
       "kitchen_area      1.000000    0.609121\n",
       "total_area        0.609121    1.000000"
      ]
     },
     "metadata": {},
     "output_type": "display_data"
    }
   ],
   "source": [
    "# kitchen_area\n",
    "\n",
    "display(data['kitchen_area'].describe())\n",
    "kitchen_area = data.loc[:,['kitchen_area','total_area']]\n",
    "display(kitchen_area.corr())\n",
    "kitchen_area.groupby(['total_area']).median()\n",
    "data['kitchen_area'] = kitchen_area.groupby('total_area')['kitchen_area']\\\n",
    "                                    .apply(lambda x: x.fillna(x.median()))\n"
   ]
  },
  {
   "cell_type": "code",
   "execution_count": 17,
   "id": "1705f0cd",
   "metadata": {},
   "outputs": [
    {
     "data": {
      "text/plain": [
       "205"
      ]
     },
     "execution_count": 17,
     "metadata": {},
     "output_type": "execute_result"
    }
   ],
   "source": [
    "data['kitchen_area'].isna().sum()"
   ]
  },
  {
   "cell_type": "code",
   "execution_count": 18,
   "id": "2000929f",
   "metadata": {},
   "outputs": [
    {
     "data": {
      "text/plain": [
       "0"
      ]
     },
     "execution_count": 18,
     "metadata": {},
     "output_type": "execute_result"
    }
   ],
   "source": [
    "# is_apartment\n",
    "\n",
    "data['is_apartment'] = data['is_apartment'].fillna('1') # replace the missing values with 1 so that when converted to bool, the values true and false do not change places\n",
    "data['is_apartment'] = data['is_apartment'].astype('bool') #converted column type to bool \n",
    "data['is_apartment'].isna().sum()\n"
   ]
  },
  {
   "cell_type": "code",
   "execution_count": 19,
   "id": "7f9b0cd3",
   "metadata": {},
   "outputs": [
    {
     "data": {
      "text/plain": [
       "0"
      ]
     },
     "execution_count": 19,
     "metadata": {},
     "output_type": "execute_result"
    }
   ],
   "source": [
    "#balcony\n",
    "data['balcony']= data['balcony'].fillna(0) # replace the missing values with 0, which means there is \"no balcony\"\n",
    "\n",
    "data['balcony'] = data['balcony'].astype('int') # converted column type to int \n",
    "data['balcony'].isna().sum()"
   ]
  },
  {
   "cell_type": "code",
   "execution_count": 20,
   "id": "a16f0e21",
   "metadata": {},
   "outputs": [
    {
     "data": {
      "text/plain": [
       "count               23650\n",
       "unique                364\n",
       "top       Санкт-Петербург\n",
       "freq                15721\n",
       "Name: locality_name, dtype: object"
      ]
     },
     "execution_count": 20,
     "metadata": {},
     "output_type": "execute_result"
    }
   ],
   "source": [
    "# locality_name\n",
    "data['locality_name'].value_counts()\n",
    "data['locality_name'].describe()"
   ]
  },
  {
   "cell_type": "markdown",
   "id": "b4d41784",
   "metadata": {},
   "source": [
    "Missing about 9% of values:\n",
    "- Perhaps this item was filled in automatically and possibly missing values ​​are due to the fact that the settlement was not found on the map (small, new, outside the region)\n",
    "- Total 364 unique values\n",
    "- Most common St. Petersburg 15721 times"
   ]
  },
  {
   "cell_type": "code",
   "execution_count": 21,
   "id": "74ce0253",
   "metadata": {},
   "outputs": [
    {
     "data": {
      "text/plain": [
       "count    18157.000000\n",
       "mean     28793.672193\n",
       "std      12630.880622\n",
       "min          0.000000\n",
       "25%      18585.000000\n",
       "50%      26726.000000\n",
       "75%      37273.000000\n",
       "max      84869.000000\n",
       "Name: airports_nearest, dtype: float64"
      ]
     },
     "metadata": {},
     "output_type": "display_data"
    }
   ],
   "source": [
    "# airports_nearest\n",
    "display(data['airports_nearest'].describe())\n"
   ]
  },
  {
   "cell_type": "markdown",
   "id": "e7f0bbe5",
   "metadata": {},
   "source": [
    "- The reasons for the passes are most likely due to the fact that in these settlements (where there are passes) there is no airport, and the nearest one is too far (sorry for the tautology)\n",
    "- The minimum value is 0 (you need to check how many of these and what they are, this hardly means that the property is located right at the airport). Well, if you believe the data of Google search queries, then the distance from the center of St. Petersburg to the airport is 23 kilometers. Apparently there are apartments right next to the airport\n",
    "- Maximum value 84869"
   ]
  },
  {
   "cell_type": "code",
   "execution_count": 22,
   "id": "7c8e64e3",
   "metadata": {},
   "outputs": [
    {
     "data": {
      "text/html": [
       "<div>\n",
       "<style scoped>\n",
       "    .dataframe tbody tr th:only-of-type {\n",
       "        vertical-align: middle;\n",
       "    }\n",
       "\n",
       "    .dataframe tbody tr th {\n",
       "        vertical-align: top;\n",
       "    }\n",
       "\n",
       "    .dataframe thead th {\n",
       "        text-align: right;\n",
       "    }\n",
       "</style>\n",
       "<table border=\"1\" class=\"dataframe\">\n",
       "  <thead>\n",
       "    <tr style=\"text-align: right;\">\n",
       "      <th></th>\n",
       "      <th>parks_around3000</th>\n",
       "      <th>parks_nearest</th>\n",
       "      <th>ponds_around3000</th>\n",
       "      <th>ponds_nearest</th>\n",
       "    </tr>\n",
       "  </thead>\n",
       "  <tbody>\n",
       "    <tr>\n",
       "      <th>count</th>\n",
       "      <td>18181.000000</td>\n",
       "      <td>8079.000000</td>\n",
       "      <td>18181.000000</td>\n",
       "      <td>9110.000000</td>\n",
       "    </tr>\n",
       "    <tr>\n",
       "      <th>mean</th>\n",
       "      <td>0.611408</td>\n",
       "      <td>490.804555</td>\n",
       "      <td>0.770255</td>\n",
       "      <td>517.980900</td>\n",
       "    </tr>\n",
       "    <tr>\n",
       "      <th>std</th>\n",
       "      <td>0.802074</td>\n",
       "      <td>342.317995</td>\n",
       "      <td>0.938346</td>\n",
       "      <td>277.720643</td>\n",
       "    </tr>\n",
       "    <tr>\n",
       "      <th>min</th>\n",
       "      <td>0.000000</td>\n",
       "      <td>1.000000</td>\n",
       "      <td>0.000000</td>\n",
       "      <td>13.000000</td>\n",
       "    </tr>\n",
       "    <tr>\n",
       "      <th>25%</th>\n",
       "      <td>0.000000</td>\n",
       "      <td>288.000000</td>\n",
       "      <td>0.000000</td>\n",
       "      <td>294.000000</td>\n",
       "    </tr>\n",
       "    <tr>\n",
       "      <th>50%</th>\n",
       "      <td>0.000000</td>\n",
       "      <td>455.000000</td>\n",
       "      <td>1.000000</td>\n",
       "      <td>502.000000</td>\n",
       "    </tr>\n",
       "    <tr>\n",
       "      <th>75%</th>\n",
       "      <td>1.000000</td>\n",
       "      <td>612.000000</td>\n",
       "      <td>1.000000</td>\n",
       "      <td>729.000000</td>\n",
       "    </tr>\n",
       "    <tr>\n",
       "      <th>max</th>\n",
       "      <td>3.000000</td>\n",
       "      <td>3190.000000</td>\n",
       "      <td>3.000000</td>\n",
       "      <td>1344.000000</td>\n",
       "    </tr>\n",
       "  </tbody>\n",
       "</table>\n",
       "</div>"
      ],
      "text/plain": [
       "       parks_around3000  parks_nearest  ponds_around3000  ponds_nearest\n",
       "count      18181.000000    8079.000000      18181.000000    9110.000000\n",
       "mean           0.611408     490.804555          0.770255     517.980900\n",
       "std            0.802074     342.317995          0.938346     277.720643\n",
       "min            0.000000       1.000000          0.000000      13.000000\n",
       "25%            0.000000     288.000000          0.000000     294.000000\n",
       "50%            0.000000     455.000000          1.000000     502.000000\n",
       "75%            1.000000     612.000000          1.000000     729.000000\n",
       "max            3.000000    3190.000000          3.000000    1344.000000"
      ]
     },
     "metadata": {},
     "output_type": "display_data"
    }
   ],
   "source": [
    "# 'parks_around3000','parks_nearest','ponds_around3000','ponds_nearest'\n",
    "data_distanse = data.loc[:,['parks_around3000','parks_nearest','ponds_around3000','ponds_nearest']]\n",
    "display(data_distanse.describe())"
   ]
  },
  {
   "cell_type": "markdown",
   "id": "ed5a1da1",
   "metadata": {},
   "source": [
    "- Missing values indicate either that there are no parks and reservoirs nearby, or the system did not detect them (therefore, it will most likely be incorrect to replace the missing values ​​with 0)\n",
    "- Judging by the data, the ponds are in parks"
   ]
  },
  {
   "cell_type": "code",
   "execution_count": 23,
   "id": "b4f8c330",
   "metadata": {},
   "outputs": [],
   "source": [
    "# Converting a column with dates\n",
    "data['first_day_exposition']= pd.to_datetime(data['first_day_exposition'], format='%Y-%m-%dT%H:%M:%S')\n",
    "\n",
    "# Add columns with year, month and day of the week\n",
    "\n",
    "# DAY\n",
    "data['daynumb_first_exposition'] = data['first_day_exposition'].dt.weekday\n",
    "\n",
    "# create a dictionary to replace the numeric expression of the day with the name\n",
    "days = ['понедельник', 'вторник', 'среда', 'четверг', 'пятница', 'суббота', 'воскресенье']\n",
    "days_numb= [0,1,2,3,4,5,6,7]\n",
    "day_dict = dict(zip(days_numb, days))\n",
    "\n",
    "# replacing the numerical expression of the day with the name\n",
    "data['daynumb_first_exposition'] = data['daynumb_first_exposition'].replace(day_dict) \n",
    "\n",
    "#MONTH\n",
    "data['month_first_exposition'] = data['first_day_exposition'].dt.month\n",
    "# create a dictionary to replace the numeric expression of the month with the name\n",
    "month=['январь','февраль','март','апрель','май','июнь','июль','август','сентябрь','октябрь','ноябрь','декабрь']\n",
    "month_numb = [1,2,3,4,5,6,7,8,9,10,11,12]\n",
    "month_dict = dict(zip(month_numb, month))\n",
    "data['month_first_exposition'] = data['month_first_exposition'].replace(month_dict)\n",
    "\n",
    "# YEAR\n",
    "data['yearnumb_first_exposition'] = data['first_day_exposition'].dt.year"
   ]
  },
  {
   "cell_type": "code",
   "execution_count": 24,
   "id": "9b973419",
   "metadata": {},
   "outputs": [],
   "source": [
    "# Create a column with floor values\n",
    "# create a function\n",
    "def floors_number(row):\n",
    "    floors_total = row['floors_total']\n",
    "    floor = row['floor']\n",
    "    if floor == 1:\n",
    "        return 'первый'\n",
    "    if floors_total-floor == 0:\n",
    "        return 'поледний'\n",
    "    return 'другой'\n",
    "data['floors_number'] = data.apply(floors_number, axis=1)"
   ]
  },
  {
   "cell_type": "code",
   "execution_count": 25,
   "id": "1c890635",
   "metadata": {},
   "outputs": [],
   "source": [
    "# Add price per square meter\n",
    "data['metr_cost'] = data['last_price'] / data['total_area']"
   ]
  },
  {
   "cell_type": "code",
   "execution_count": 26,
   "id": "10ec9ee8",
   "metadata": {},
   "outputs": [],
   "source": [
    "data = data.query('ceiling_height >=2.25 and ceiling_height <=3.05')"
   ]
  },
  {
   "cell_type": "code",
   "execution_count": 27,
   "id": "b4d11b39",
   "metadata": {},
   "outputs": [],
   "source": [
    "data = data.query('living_area >2 and living_area <75')"
   ]
  },
  {
   "cell_type": "code",
   "execution_count": 28,
   "id": "2e54a863",
   "metadata": {},
   "outputs": [
    {
     "data": {
      "text/plain": [
       "(21560, 27)"
      ]
     },
     "execution_count": 28,
     "metadata": {},
     "output_type": "execute_result"
    }
   ],
   "source": [
    "data.shape"
   ]
  },
  {
   "cell_type": "code",
   "execution_count": 29,
   "id": "d6a8bda7",
   "metadata": {},
   "outputs": [
    {
     "data": {
      "image/png": "[encoded data removed]",
      "text/plain": [
       "<Figure size 1080x576 with 1 Axes>"
      ]
     },
     "metadata": {},
     "output_type": "display_data"
    }
   ],
   "source": [
    "plt.figure(figsize=(15,8))\n",
    "sns.set_style('whitegrid')\n",
    "sns.boxplot(data=data, x='total_area')\n",
    "plt.title('Total Area')\n",
    "plt.xlabel('m2')\n",
    "\n",
    "pass\n"
   ]
  },
  {
   "cell_type": "code",
   "execution_count": 30,
   "id": "f02d40b4",
   "metadata": {},
   "outputs": [],
   "source": [
    "data = data.query('total_area <110')"
   ]
  },
  {
   "cell_type": "code",
   "execution_count": 31,
   "id": "4c780ba0",
   "metadata": {},
   "outputs": [
    {
     "data": {
      "text/plain": [
       "(21163, 27)"
      ]
     },
     "execution_count": 31,
     "metadata": {},
     "output_type": "execute_result"
    }
   ],
   "source": [
    "data.shape"
   ]
  },
  {
   "cell_type": "code",
   "execution_count": 32,
   "id": "f906ede2",
   "metadata": {},
   "outputs": [
    {
     "name": "stdout",
     "output_type": "stream",
     "text": [
      "<class 'pandas.core.frame.DataFrame'>\n",
      "Int64Index: 21163 entries, 0 to 23698\n",
      "Data columns (total 29 columns):\n",
      " #   Column                     Non-Null Count  Dtype         \n",
      "---  ------                     --------------  -----         \n",
      " 0   total_images               21163 non-null  int64         \n",
      " 1   last_price                 21163 non-null  float64       \n",
      " 2   total_area                 21163 non-null  float64       \n",
      " 3   first_day_exposition       21163 non-null  datetime64[ns]\n",
      " 4   rooms                      21163 non-null  int64         \n",
      " 5   ceiling_height             21163 non-null  float64       \n",
      " 6   floors_total               21163 non-null  int32         \n",
      " 7   living_area                21163 non-null  float64       \n",
      " 8   floor                      21163 non-null  int64         \n",
      " 9   is_apartment               21163 non-null  bool          \n",
      " 10  studio                     21163 non-null  bool          \n",
      " 11  open_plan                  21163 non-null  bool          \n",
      " 12  kitchen_area               20994 non-null  float64       \n",
      " 13  balcony                    21163 non-null  int32         \n",
      " 14  locality_name              21122 non-null  object        \n",
      " 15  airports_nearest           15761 non-null  float64       \n",
      " 16  cityCenters_nearest        15779 non-null  float64       \n",
      " 17  parks_around3000           15780 non-null  float64       \n",
      " 18  parks_nearest              6455 non-null   float64       \n",
      " 19  ponds_around3000           15780 non-null  float64       \n",
      " 20  ponds_nearest              7522 non-null   float64       \n",
      " 21  days_exposition            18563 non-null  float64       \n",
      " 22  daynumb_first_exposition   21163 non-null  object        \n",
      " 23  month_first_exposition     21163 non-null  object        \n",
      " 24  yearnumb_first_exposition  21163 non-null  int64         \n",
      " 25  floors_number              21163 non-null  object        \n",
      " 26  metr_cost                  21163 non-null  float64       \n",
      " 27  living_to_total            21163 non-null  float64       \n",
      " 28  kitchen_to_total           20994 non-null  float64       \n",
      "dtypes: bool(3), datetime64[ns](1), float64(15), int32(2), int64(4), object(4)\n",
      "memory usage: 4.3+ MB\n"
     ]
    }
   ],
   "source": [
    "# living area/total area ratio column\n",
    "data['living_to_total'] = data['living_area'] / data['total_area']\n",
    "\n",
    "# ratio column kitchen area / total area\n",
    "data['kitchen_to_total'] = data['kitchen_area'] / data['total_area']\n",
    "\n",
    "data.info() "
   ]
  },
  {
   "cell_type": "code",
   "execution_count": 33,
   "id": "03093c5a",
   "metadata": {},
   "outputs": [
    {
     "data": {
      "text/plain": [
       "count    2.116300e+04\n",
       "mean     5.030839e+06\n",
       "std      2.943308e+06\n",
       "min      1.219000e+04\n",
       "25%      3.300000e+06\n",
       "50%      4.400000e+06\n",
       "75%      5.990000e+06\n",
       "max      5.000000e+07\n",
       "Name: last_price, dtype: float64"
      ]
     },
     "metadata": {},
     "output_type": "display_data"
    },
    {
     "data": {
      "text/plain": [
       "count    21163.000000\n",
       "mean         5.030839\n",
       "std          2.943308\n",
       "min          0.012190\n",
       "25%          3.300000\n",
       "50%          4.400000\n",
       "75%          5.990000\n",
       "max         50.000000\n",
       "Name: price_mln, dtype: float64"
      ]
     },
     "metadata": {},
     "output_type": "display_data"
    }
   ],
   "source": [
    "display(data['last_price'].describe())\n",
    "data['price_mln'] = data['last_price'] / 1000000 \n",
    "display(data['price_mln'].describe())"
   ]
  },
  {
   "cell_type": "code",
   "execution_count": 34,
   "id": "c5c4d8c5",
   "metadata": {},
   "outputs": [
    {
     "data": {
      "image/png": "[encoded data removed]",
      "text/plain": [
       "<Figure size 1080x576 with 1 Axes>"
      ]
     },
     "metadata": {},
     "output_type": "display_data"
    }
   ],
   "source": [
    "plt.figure(figsize=(15,8))\n",
    "sns.set_style('whitegrid')\n",
    "sns.boxplot(data=data, x='price_mln')\n",
    "plt.title('Price of apartments')\n",
    "plt.xlabel('mln')\n",
    "\n",
    "pass\n"
   ]
  },
  {
   "cell_type": "markdown",
   "id": "c376bbf5",
   "metadata": {},
   "source": [
    "Ok what we see in Prices? That 99% of apartments are cheaper than 10 million. And we have apartments in price of 12000 that is strange and almost impossible look at it"
   ]
  },
  {
   "cell_type": "code",
   "execution_count": 35,
   "id": "17d82b9b",
   "metadata": {},
   "outputs": [
    {
     "data": {
      "text/html": [
       "<div>\n",
       "<style scoped>\n",
       "    .dataframe tbody tr th:only-of-type {\n",
       "        vertical-align: middle;\n",
       "    }\n",
       "\n",
       "    .dataframe tbody tr th {\n",
       "        vertical-align: top;\n",
       "    }\n",
       "\n",
       "    .dataframe thead th {\n",
       "        text-align: right;\n",
       "    }\n",
       "</style>\n",
       "<table border=\"1\" class=\"dataframe\">\n",
       "  <thead>\n",
       "    <tr style=\"text-align: right;\">\n",
       "      <th></th>\n",
       "      <th>total_images</th>\n",
       "      <th>last_price</th>\n",
       "      <th>total_area</th>\n",
       "      <th>first_day_exposition</th>\n",
       "      <th>rooms</th>\n",
       "      <th>ceiling_height</th>\n",
       "      <th>floors_total</th>\n",
       "      <th>living_area</th>\n",
       "      <th>floor</th>\n",
       "      <th>is_apartment</th>\n",
       "      <th>...</th>\n",
       "      <th>ponds_nearest</th>\n",
       "      <th>days_exposition</th>\n",
       "      <th>daynumb_first_exposition</th>\n",
       "      <th>month_first_exposition</th>\n",
       "      <th>yearnumb_first_exposition</th>\n",
       "      <th>floors_number</th>\n",
       "      <th>metr_cost</th>\n",
       "      <th>living_to_total</th>\n",
       "      <th>kitchen_to_total</th>\n",
       "      <th>price_mln</th>\n",
       "    </tr>\n",
       "  </thead>\n",
       "  <tbody>\n",
       "    <tr>\n",
       "      <th>8793</th>\n",
       "      <td>7</td>\n",
       "      <td>12190.0</td>\n",
       "      <td>109.0</td>\n",
       "      <td>2019-03-20</td>\n",
       "      <td>2</td>\n",
       "      <td>2.75</td>\n",
       "      <td>25</td>\n",
       "      <td>32.0</td>\n",
       "      <td>25</td>\n",
       "      <td>True</td>\n",
       "      <td>...</td>\n",
       "      <td>NaN</td>\n",
       "      <td>8.0</td>\n",
       "      <td>среда</td>\n",
       "      <td>март</td>\n",
       "      <td>2019</td>\n",
       "      <td>поледний</td>\n",
       "      <td>111.834862</td>\n",
       "      <td>0.293578</td>\n",
       "      <td>0.37156</td>\n",
       "      <td>0.01219</td>\n",
       "    </tr>\n",
       "  </tbody>\n",
       "</table>\n",
       "<p>1 rows × 30 columns</p>\n",
       "</div>"
      ],
      "text/plain": [
       "      total_images  last_price  total_area first_day_exposition  rooms  \\\n",
       "8793             7     12190.0       109.0           2019-03-20      2   \n",
       "\n",
       "      ceiling_height  floors_total  living_area  floor  is_apartment  ...  \\\n",
       "8793            2.75            25         32.0     25          True  ...   \n",
       "\n",
       "      ponds_nearest  days_exposition  daynumb_first_exposition  \\\n",
       "8793            NaN              8.0                     среда   \n",
       "\n",
       "      month_first_exposition yearnumb_first_exposition  floors_number  \\\n",
       "8793                    март                      2019       поледний   \n",
       "\n",
       "       metr_cost  living_to_total  kitchen_to_total  price_mln  \n",
       "8793  111.834862         0.293578           0.37156    0.01219  \n",
       "\n",
       "[1 rows x 30 columns]"
      ]
     },
     "execution_count": 35,
     "metadata": {},
     "output_type": "execute_result"
    }
   ],
   "source": [
    "data.query('price_mln < 0.013')"
   ]
  },
  {
   "cell_type": "markdown",
   "id": "3f0adde7",
   "metadata": {},
   "source": [
    "and now we see that it's a wrong"
   ]
  },
  {
   "cell_type": "code",
   "execution_count": 36,
   "id": "9dd5b263",
   "metadata": {},
   "outputs": [
    {
     "data": {
      "text/plain": [
       "(21163, 30)"
      ]
     },
     "execution_count": 36,
     "metadata": {},
     "output_type": "execute_result"
    }
   ],
   "source": [
    "data.shape"
   ]
  },
  {
   "cell_type": "code",
   "execution_count": 37,
   "id": "09bfbd08",
   "metadata": {},
   "outputs": [],
   "source": [
    "data = data.query('price_mln > 0.012')"
   ]
  },
  {
   "cell_type": "code",
   "execution_count": 38,
   "id": "b4d5d409",
   "metadata": {},
   "outputs": [
    {
     "data": {
      "text/plain": [
       "(21163, 30)"
      ]
     },
     "execution_count": 38,
     "metadata": {},
     "output_type": "execute_result"
    }
   ],
   "source": [
    "data.shape"
   ]
  },
  {
   "cell_type": "code",
   "execution_count": 39,
   "id": "a23d6753",
   "metadata": {},
   "outputs": [
    {
     "data": {
      "text/plain": [
       "Text(0, 0.5, 'count')"
      ]
     },
     "execution_count": 39,
     "metadata": {},
     "output_type": "execute_result"
    },
    {
     "data": {
      "image/png": "[encoded data removed]",
      "text/plain": [
       "<Figure size 1080x576 with 1 Axes>"
      ]
     },
     "metadata": {},
     "output_type": "display_data"
    }
   ],
   "source": [
    "plt.figure(figsize=(15,8))\n",
    "data.rooms.hist()\n",
    "plt.title('Number of rooms')\n",
    "plt.xlabel('Number of rooms')\n",
    "plt.ylabel('count')"
   ]
  },
  {
   "cell_type": "markdown",
   "id": "89fdb69b",
   "metadata": {},
   "source": [
    "- Parsing by the number of rooms from 0 to 6.\n",
    "- Most apartments with 1,2 and 3 rooms\n",
    "- Under 0 it turns out that this is a studio apartment or an open plan\n",
    "- 4 places and the rest are more common"
   ]
  },
  {
   "cell_type": "code",
   "execution_count": 40,
   "id": "485accb7",
   "metadata": {},
   "outputs": [
    {
     "data": {
      "text/plain": [
       "count    18563.00000\n",
       "mean       171.65609\n",
       "std        209.95791\n",
       "min          1.00000\n",
       "25%         43.50000\n",
       "50%         91.00000\n",
       "75%        216.50000\n",
       "max       1580.00000\n",
       "Name: days_exposition, dtype: float64"
      ]
     },
     "metadata": {},
     "output_type": "display_data"
    }
   ],
   "source": [
    "display(data['days_exposition'].describe())\n"
   ]
  },
  {
   "cell_type": "code",
   "execution_count": 41,
   "id": "5b2c42a6",
   "metadata": {},
   "outputs": [
    {
     "data": {
      "image/png": "[encoded data removed]",
      "text/plain": [
       "<Figure size 1080x576 with 1 Axes>"
      ]
     },
     "metadata": {},
     "output_type": "display_data"
    }
   ],
   "source": [
    "plt.figure(figsize=(15,8))\n",
    "sns.set_style('whitegrid')\n",
    "sns.boxplot(data=data, x='days_exposition')\n",
    "plt.title('Days of Exposition')\n",
    "plt.xlabel('days')\n",
    "\n",
    "pass"
   ]
  },
  {
   "cell_type": "markdown",
   "id": "eb1533b3",
   "metadata": {},
   "source": [
    "- most often apartments are sold in the range from 45 to 220 days\n",
    "- 1 day it's impossible because for one day you don't prepare documents or find a customer\n",
    "- 99% values less than 500 days"
   ]
  },
  {
   "cell_type": "code",
   "execution_count": 42,
   "id": "f62bdab2",
   "metadata": {},
   "outputs": [],
   "source": [
    "data = data.query('days_exposition <= 360')"
   ]
  },
  {
   "cell_type": "markdown",
   "id": "f577fc56",
   "metadata": {},
   "source": [
    "We can leave apartments that were sold a year or less. If the apartment has not been sold in a year, there may be some problems with it and it is better for the platform of the selling apartment to renew the contract with the seller in a year"
   ]
  },
  {
   "cell_type": "code",
   "execution_count": 43,
   "id": "1a7ef2f7",
   "metadata": {},
   "outputs": [
    {
     "data": {
      "text/html": [
       "<div>\n",
       "<style scoped>\n",
       "    .dataframe tbody tr th:only-of-type {\n",
       "        vertical-align: middle;\n",
       "    }\n",
       "\n",
       "    .dataframe tbody tr th {\n",
       "        vertical-align: top;\n",
       "    }\n",
       "\n",
       "    .dataframe thead th {\n",
       "        text-align: right;\n",
       "    }\n",
       "</style>\n",
       "<table border=\"1\" class=\"dataframe\">\n",
       "  <thead>\n",
       "    <tr style=\"text-align: right;\">\n",
       "      <th></th>\n",
       "      <th>price_mln</th>\n",
       "      <th>total_area</th>\n",
       "      <th>rooms</th>\n",
       "      <th>cityCenters_nearest</th>\n",
       "    </tr>\n",
       "  </thead>\n",
       "  <tbody>\n",
       "    <tr>\n",
       "      <th>price_mln</th>\n",
       "      <td>1.000000</td>\n",
       "      <td>0.684396</td>\n",
       "      <td>0.395271</td>\n",
       "      <td>-0.30512</td>\n",
       "    </tr>\n",
       "    <tr>\n",
       "      <th>total_area</th>\n",
       "      <td>0.684396</td>\n",
       "      <td>1.000000</td>\n",
       "      <td>0.791659</td>\n",
       "      <td>-0.11386</td>\n",
       "    </tr>\n",
       "    <tr>\n",
       "      <th>rooms</th>\n",
       "      <td>0.395271</td>\n",
       "      <td>0.791659</td>\n",
       "      <td>1.000000</td>\n",
       "      <td>-0.05674</td>\n",
       "    </tr>\n",
       "    <tr>\n",
       "      <th>cityCenters_nearest</th>\n",
       "      <td>-0.305120</td>\n",
       "      <td>-0.113860</td>\n",
       "      <td>-0.056740</td>\n",
       "      <td>1.00000</td>\n",
       "    </tr>\n",
       "  </tbody>\n",
       "</table>\n",
       "</div>"
      ],
      "text/plain": [
       "                     price_mln  total_area     rooms  cityCenters_nearest\n",
       "price_mln             1.000000    0.684396  0.395271             -0.30512\n",
       "total_area            0.684396    1.000000  0.791659             -0.11386\n",
       "rooms                 0.395271    0.791659  1.000000             -0.05674\n",
       "cityCenters_nearest  -0.305120   -0.113860 -0.056740              1.00000"
      ]
     },
     "execution_count": 43,
     "metadata": {},
     "output_type": "execute_result"
    },
    {
     "data": {
      "image/png": "[encoded data removed]",
      "text/plain": [
       "<Figure size 648x648 with 16 Axes>"
      ]
     },
     "metadata": {},
     "output_type": "display_data"
    }
   ],
   "source": [
    "#Изучите, зависит ли цена от площади, числа комнат, удалённости от центра.\n",
    "\n",
    "data_after_matrix=data.loc[:,['price_mln', 'total_area','rooms','cityCenters_nearest']]\n",
    "\n",
    "pd.plotting.scatter_matrix(data_after_matrix, figsize=(9,9), grid=True)\n",
    "data_after_matrix.corr()"
   ]
  },
  {
   "cell_type": "markdown",
   "id": "67f71ed8",
   "metadata": {},
   "source": [
    "- The price depends on the area of the apartment (the larger the area, the higher the price). Correlation 0.68 (average)\n",
    "- There is no linear dependence of the price on the number of rooms, but it is clear that in categories with 2 and 3 rooms, prices reach higher values\n",
    "- It can be seen that the farther from the center, the fewer apartments at a high price."
   ]
  },
  {
   "cell_type": "code",
   "execution_count": 44,
   "id": "4233c34c",
   "metadata": {},
   "outputs": [
    {
     "data": {
      "text/plain": [
       "<AxesSubplot:xlabel='yearnumb_first_exposition'>"
      ]
     },
     "execution_count": 44,
     "metadata": {},
     "output_type": "execute_result"
    },
    {
     "data": {
      "image/png": "[encoded data removed]",
      "text/plain": [
       "<Figure size 432x288 with 1 Axes>"
      ]
     },
     "metadata": {},
     "output_type": "display_data"
    },
    {
     "data": {
      "image/png": "[encoded data removed]",
      "text/plain": [
       "<Figure size 432x288 with 1 Axes>"
      ]
     },
     "metadata": {},
     "output_type": "display_data"
    },
    {
     "data": {
      "image/png": "[encoded data removed]",
      "text/plain": [
       "<Figure size 432x288 with 1 Axes>"
      ]
     },
     "metadata": {},
     "output_type": "display_data"
    },
    {
     "data": {
      "image/png": "[encoded data removed]",
      "text/plain": [
       "<Figure size 432x288 with 1 Axes>"
      ]
     },
     "metadata": {},
     "output_type": "display_data"
    },
    {
     "data": {
      "image/png": "[encoded data removed]",
      "text/plain": [
       "<Figure size 432x288 with 1 Axes>"
      ]
     },
     "metadata": {},
     "output_type": "display_data"
    }
   ],
   "source": [
    "# The dependence of the cost on the floor\n",
    "\n",
    "data.pivot_table(index='floors_number', values='price_mln', aggfunc = 'median').sort_values(by='price_mln').plot(kind='bar',grid=True)\n",
    "\n",
    "data.pivot_table(index='daynumb_first_exposition', values='price_mln').plot(kind='bar',grid=True)\n",
    "data.pivot_table(index='month_first_exposition', values='price_mln', aggfunc = 'median').plot(ylim=(0,6),kind='bar',grid=True)\n",
    "data.pivot_table(index='yearnumb_first_exposition', values='price_mln', aggfunc = 'median').plot(grid=True)\n",
    "data.pivot_table(index='yearnumb_first_exposition', values='price_mln', aggfunc = 'median').plot(kind='bar',grid=True)"
   ]
  },
  {
   "cell_type": "markdown",
   "id": "d0c1e176",
   "metadata": {},
   "source": [
    "1. By floors, the result is quite expected:\n",
    "- cheapest first floor\n",
    "- the last floor is more expensive than the first, but cheaper than other floors\n",
    "2. Situation by day of the week:\n",
    "- no clear relationship\n",
    "3. By month:\n",
    "- no clear relationship\n",
    "4. What we have over the years:\n",
    "- prices fell by 2016 and began to rise only after 2018\n",
    "- in 2019 prices rose to the level of 2015\n",
    "- most likely that the price here depends on the economic situation in the country"
   ]
  },
  {
   "cell_type": "markdown",
   "id": "44326330",
   "metadata": {},
   "source": [
    "### Conclusions"
   ]
  },
  {
   "cell_type": "markdown",
   "id": "a6cf062f",
   "metadata": {},
   "source": [
    "- In this project, we have chosen the boundaries for the parameters when submitting an advertisement for the sale of apartments. Why is this needed? In order to filter out ads that are clearly untrue at the beginning (ceiling height 100 m or apartment area 2 meters, etc.)\n",
    "- We analyzed the dependence of prices on various factors"
   ]
  },
  {
   "cell_type": "code",
   "execution_count": null,
   "id": "2e447142",
   "metadata": {},
   "outputs": [],
   "source": []
  }
 ],
 "metadata": {
  "kernelspec": {
   "display_name": "Python 3",
   "language": "python",
   "name": "python3"
  },
  "language_info": {
   "codemirror_mode": {
    "name": "ipython",
    "version": 3
   },
   "file_extension": ".py",
   "mimetype": "text/x-python",
   "name": "python",
   "nbconvert_exporter": "python",
   "pygments_lexer": "ipython3",
   "version": "3.8.8"
  }
 },
 "nbformat": 4,
 "nbformat_minor": 5
}
